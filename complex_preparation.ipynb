{
 "cells": [
  {
   "cell_type": "code",
   "execution_count": 1,
   "id": "6ee58826-7f38-4176-bac9-33792647effa",
   "metadata": {},
   "outputs": [],
   "source": [
    "import os\n",
    "import pymol\n",
    "from pymol import cmd"
   ]
  },
  {
   "cell_type": "code",
   "execution_count": null,
   "id": "4adcbadd-76d7-41d3-9481-f3c2d01c7cd6",
   "metadata": {
    "scrolled": true
   },
   "outputs": [],
   "source": [
    "ligands_directory = \"results_vina_inhibitors/\"\n",
    "complexes_directory = \"inhibitor_complexes/\"\n",
    "for ligand in os.listdir(ligands_directory):\n",
    "    ligand_name = ligand.split(\".\")[0]\n",
    "    cmd.reinitialize()\n",
    "    cmd.load(\"receptor/8D6EB_H_inorder_HIS.pdb\")\n",
    "    cmd.load(ligands_directory + ligand)\n",
    "    cmd.save(complexes_directory + \"%s_complex.pdb\" % (ligand_name), \"all\")\n",
    "cmd.quit()"
   ]
  },
  {
   "cell_type": "code",
   "execution_count": null,
   "id": "54f8dccb-d52f-4be5-b76f-9791448dcf94",
   "metadata": {},
   "outputs": [],
   "source": []
  }
 ],
 "metadata": {
  "kernelspec": {
   "display_name": "Python 3 (ipykernel)",
   "language": "python",
   "name": "python3"
  },
  "language_info": {
   "codemirror_mode": {
    "name": "ipython",
    "version": 3
   },
   "file_extension": ".py",
   "mimetype": "text/x-python",
   "name": "python",
   "nbconvert_exporter": "python",
   "pygments_lexer": "ipython3",
   "version": "3.9.18"
  }
 },
 "nbformat": 4,
 "nbformat_minor": 5
}
