{
 "cells": [
  {
   "cell_type": "code",
   "execution_count": 21,
   "id": "e50d80d8-4991-43d1-9b0c-f8f4363e7d85",
   "metadata": {},
   "outputs": [],
   "source": [
    "import os\n",
    "import re"
   ]
  },
  {
   "cell_type": "code",
   "execution_count": 39,
   "id": "bc7fce81-4b8c-42bd-b2df-e56f708d7fb8",
   "metadata": {},
   "outputs": [
    {
     "name": "stderr",
     "output_type": "stream",
     "text": [
      "2024-02-13 17:10:00,740 [INFO] [plipcmd.py:124] plip.plipcmd: Protein-Ligand Interaction Profiler (PLIP) 2.3.0\n",
      "2024-02-13 17:10:00,740 [INFO] [plipcmd.py:125] plip.plipcmd: brought to you by: PharmAI GmbH (2020-2021) - www.pharm.ai - hello@pharm.ai\n",
      "2024-02-13 17:10:00,740 [INFO] [plipcmd.py:126] plip.plipcmd: please cite: Adasme,M. et al. PLIP 2021: expanding the scope of the protein-ligand interaction profiler to DNA and RNA. Nucl. Acids Res. (05 May 2021), gkab294. doi: 10.1093/nar/gkab294\n",
      "2024-02-13 17:10:00,740 [INFO] [plipcmd.py:49] plip.plipcmd: starting analysis of PD0166285_out_complex.pdb\n",
      "2024-02-13 17:10:00,823 [WARNING] [preparation.py:1418] plip.structure.preparation: no polar hydrogens will be assigned (make sure your structure contains hydrogens)\n",
      "2024-02-13 17:10:01,076 [INFO] [plipcmd.py:165] plip.plipcmd: finished analysis, find the result files in plip_output/\n"
     ]
    },
    {
     "name": "stdout",
     "output_type": "stream",
     "text": [
      "Running PLIP with PD0166285_out_complex.pdb as ligand\n"
     ]
    },
    {
     "name": "stderr",
     "output_type": "stream",
     "text": [
      "2024-02-13 17:10:01,787 [INFO] [plipcmd.py:124] plip.plipcmd: Protein-Ligand Interaction Profiler (PLIP) 2.3.0\n",
      "2024-02-13 17:10:01,787 [INFO] [plipcmd.py:125] plip.plipcmd: brought to you by: PharmAI GmbH (2020-2021) - www.pharm.ai - hello@pharm.ai\n",
      "2024-02-13 17:10:01,787 [INFO] [plipcmd.py:126] plip.plipcmd: please cite: Adasme,M. et al. PLIP 2021: expanding the scope of the protein-ligand interaction profiler to DNA and RNA. Nucl. Acids Res. (05 May 2021), gkab294. doi: 10.1093/nar/gkab294\n",
      "2024-02-13 17:10:01,787 [INFO] [plipcmd.py:49] plip.plipcmd: starting analysis of RP-6306_out_complex.pdb\n",
      "2024-02-13 17:10:01,858 [WARNING] [preparation.py:1418] plip.structure.preparation: no polar hydrogens will be assigned (make sure your structure contains hydrogens)\n",
      "2024-02-13 17:10:02,018 [INFO] [plipcmd.py:165] plip.plipcmd: finished analysis, find the result files in plip_output/\n"
     ]
    },
    {
     "name": "stdout",
     "output_type": "stream",
     "text": [
      "Running PLIP with RP-6306_out_complex.pdb as ligand\n"
     ]
    },
    {
     "name": "stderr",
     "output_type": "stream",
     "text": [
      "2024-02-13 17:10:02,668 [INFO] [plipcmd.py:124] plip.plipcmd: Protein-Ligand Interaction Profiler (PLIP) 2.3.0\n",
      "2024-02-13 17:10:02,668 [INFO] [plipcmd.py:125] plip.plipcmd: brought to you by: PharmAI GmbH (2020-2021) - www.pharm.ai - hello@pharm.ai\n",
      "2024-02-13 17:10:02,668 [INFO] [plipcmd.py:126] plip.plipcmd: please cite: Adasme,M. et al. PLIP 2021: expanding the scope of the protein-ligand interaction profiler to DNA and RNA. Nucl. Acids Res. (05 May 2021), gkab294. doi: 10.1093/nar/gkab294\n",
      "2024-02-13 17:10:02,668 [INFO] [plipcmd.py:49] plip.plipcmd: starting analysis of Dasatinib_out_complex.pdb\n",
      "2024-02-13 17:10:02,742 [WARNING] [preparation.py:1418] plip.structure.preparation: no polar hydrogens will be assigned (make sure your structure contains hydrogens)\n",
      "2024-02-13 17:10:02,954 [INFO] [plipcmd.py:165] plip.plipcmd: finished analysis, find the result files in plip_output/\n"
     ]
    },
    {
     "name": "stdout",
     "output_type": "stream",
     "text": [
      "Running PLIP with Dasatinib_out_complex.pdb as ligand\n"
     ]
    },
    {
     "name": "stderr",
     "output_type": "stream",
     "text": [
      "2024-02-13 17:10:03,596 [INFO] [plipcmd.py:124] plip.plipcmd: Protein-Ligand Interaction Profiler (PLIP) 2.3.0\n",
      "2024-02-13 17:10:03,596 [INFO] [plipcmd.py:125] plip.plipcmd: brought to you by: PharmAI GmbH (2020-2021) - www.pharm.ai - hello@pharm.ai\n",
      "2024-02-13 17:10:03,597 [INFO] [plipcmd.py:126] plip.plipcmd: please cite: Adasme,M. et al. PLIP 2021: expanding the scope of the protein-ligand interaction profiler to DNA and RNA. Nucl. Acids Res. (05 May 2021), gkab294. doi: 10.1093/nar/gkab294\n",
      "2024-02-13 17:10:03,597 [INFO] [plipcmd.py:49] plip.plipcmd: starting analysis of cpd4_out_complex.pdb\n",
      "2024-02-13 17:10:03,675 [WARNING] [preparation.py:1418] plip.structure.preparation: no polar hydrogens will be assigned (make sure your structure contains hydrogens)\n"
     ]
    },
    {
     "name": "stdout",
     "output_type": "stream",
     "text": [
      "Running PLIP with cpd4_out_complex.pdb as ligand\n",
      "['RP-6306_out_complex.pdb', 'Dasatinib_out_complex.pdb']\n"
     ]
    },
    {
     "name": "stderr",
     "output_type": "stream",
     "text": [
      "2024-02-13 17:10:03,903 [INFO] [plipcmd.py:165] plip.plipcmd: finished analysis, find the result files in plip_output/\n"
     ]
    }
   ],
   "source": [
    "directory_complex = \"inhibitor_complexes/\"\n",
    "bond = \"**Hydrogen Bonds**\"\n",
    "result = []\n",
    "for file in os.listdir(directory_complex):\n",
    "    os.system(\"plip -f %s -o plip_output/ --nohydro --nofix -t\" % \\\n",
    "              (directory_complex + file)) #循环运行plip分析\n",
    "    print(\"Running PLIP with %s as ligand\" % file)\n",
    "    \n",
    "    with open(\"plip_output/report.txt\") as report:\n",
    "        report_informartion = report.read()\n",
    "        start_bond_report = report_informartion.find(bond) # 氢键信息起始位置\n",
    "        \n",
    "        if start_bond_report == -1: # 筛选是否有氢键作用\n",
    "            continue\n",
    "            \n",
    "        else:\n",
    "            end_bond_report = report_informartion.find(\"+\\n\\n\\n\", start_bond_report) #氢键信息结束位置\n",
    "            content_bond_report = report_informartion[start_bond_report:end_bond_report] #氢键信息内容\n",
    "            if re.search(\"190\\s*\\W\\sCYS\", content_bond_report): # \\s匹配空白，*匹配任意个，\\W匹配\"|\"（非单词字符）\n",
    "                result.append(file)\n",
    "print(result)"
   ]
  },
  {
   "cell_type": "code",
   "execution_count": 40,
   "id": "50f4e548-3c8d-4d03-9366-c4a67a7ddbf3",
   "metadata": {},
   "outputs": [
    {
     "name": "stderr",
     "output_type": "stream",
     "text": [
      "2024-02-13 17:13:07,908 [INFO] [plipcmd.py:124] plip.plipcmd: Protein-Ligand Interaction Profiler (PLIP) 2.3.0\n",
      "2024-02-13 17:13:07,908 [INFO] [plipcmd.py:125] plip.plipcmd: brought to you by: PharmAI GmbH (2020-2021) - www.pharm.ai - hello@pharm.ai\n",
      "2024-02-13 17:13:07,908 [INFO] [plipcmd.py:126] plip.plipcmd: please cite: Adasme,M. et al. PLIP 2021: expanding the scope of the protein-ligand interaction profiler to DNA and RNA. Nucl. Acids Res. (05 May 2021), gkab294. doi: 10.1093/nar/gkab294\n",
      "2024-02-13 17:13:07,908 [INFO] [plipcmd.py:49] plip.plipcmd: starting analysis of cpd4_out_complex.pdb\n",
      "2024-02-13 17:13:07,997 [WARNING] [preparation.py:1418] plip.structure.preparation: no polar hydrogens will be assigned (make sure your structure contains hydrogens)\n"
     ]
    },
    {
     "name": "stdout",
     "output_type": "stream",
     "text": [
      "Running PLIP with cpd4 as ligand\n"
     ]
    },
    {
     "name": "stderr",
     "output_type": "stream",
     "text": [
      "2024-02-13 17:13:08,253 [INFO] [plipcmd.py:165] plip.plipcmd: finished analysis, find the result files in plip_output/\n"
     ]
    }
   ],
   "source": [
    "os.system(\"plip -f %s -o plip_output/ --nohydro --nofix -t\" % (\"inhibitor_complexes/cpd4_out_complex.pdb\"))\n",
    "print(\"Running PLIP with %s as ligand\" % \"cpd4\")\n",
    "# 单个对接结果分析"
   ]
  }
 ],
 "metadata": {
  "kernelspec": {
   "display_name": "Python 3 (ipykernel)",
   "language": "python",
   "name": "python3"
  },
  "language_info": {
   "codemirror_mode": {
    "name": "ipython",
    "version": 3
   },
   "file_extension": ".py",
   "mimetype": "text/x-python",
   "name": "python",
   "nbconvert_exporter": "python",
   "pygments_lexer": "ipython3",
   "version": "3.9.18"
  }
 },
 "nbformat": 4,
 "nbformat_minor": 5
}
